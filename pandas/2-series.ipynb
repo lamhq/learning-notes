{
 "cells": [
  {
   "cell_type": "markdown",
   "id": "55a35d2f-5f63-47cd-8243-c8dddfa6b924",
   "metadata": {},
   "source": [
    "# Series"
   ]
  },
  {
   "cell_type": "markdown",
   "id": "a9d4b0a9-8a9b-49a5-a78e-8108ce9ba7a2",
   "metadata": {},
   "source": [
    "The Series is the primary building block of pandas. It represents a one-dimensional array- like set of values of a single data type. While it can appear like an array, a Series has an associated index that can be used to perform very efficient retrievals of values based upon labels."
   ]
  },
  {
   "cell_type": "markdown",
   "id": "27d73122-557c-4750-ae78-d76d41ffda44",
   "metadata": {},
   "source": [
    "## Create a Pandas Series from a list"
   ]
  },
  {
   "cell_type": "code",
   "execution_count": 1,
   "metadata": {},
   "outputs": [],
   "source": [
    "import pandas as pd\n",
    "import numpy as np"
   ]
  }
 ],
 "metadata": {
  "interpreter": {
   "hash": "219f4779f3e9799040c4854f0cf9ca30d12f8786923749970a974e1f3848a6cc"
  },
  "kernelspec": {
   "display_name": "Python 3.8.0 64-bit",
   "language": "python",
   "name": "python3"
  },
  "language_info": {
   "codemirror_mode": {
    "name": "ipython",
    "version": 3
   },
   "file_extension": ".py",
   "mimetype": "text/x-python",
   "name": "python",
   "nbconvert_exporter": "python",
   "pygments_lexer": "ipython3",
   "version": "3.8.10"
  },
  "metadata": {
   "interpreter": {
    "hash": "aee8b7b246df8f9039afb4144a1f6fd8d2ca17a180786b69acc140d282b71a49"
   }
  }
 },
 "nbformat": 4,
 "nbformat_minor": 5
}
