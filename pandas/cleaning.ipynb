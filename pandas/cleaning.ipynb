{
 "cells": [
  {
   "cell_type": "markdown",
   "id": "ed3db86b-740a-4660-8eb6-cbc69236d8b1",
   "metadata": {},
   "source": [
    "# Cleaning data"
   ]
  },
  {
   "cell_type": "markdown",
   "id": "b67c1ad3-897e-4c75-b6b3-3cf2cbfc5d3e",
   "metadata": {},
   "source": [
    "## Remove Rows that contain empty cells"
   ]
  },
  {
   "cell_type": "code",
   "execution_count": null,
   "id": "091e06e8-e655-4247-a5b3-437abe16702a",
   "metadata": {},
   "outputs": [],
   "source": [
    "import pandas as pd\n",
    "\n",
    "df = pd.read_csv('data.csv', sep=\";\")\n",
    "\n",
    "df.dropna(inplace = True)\n",
    "\n",
    "print(df.to_string())"
   ]
  },
  {
   "cell_type": "markdown",
   "id": "2041a3b6-b680-4a15-9f4a-a4c0032f817f",
   "metadata": {},
   "source": [
    "## Replace Empty Values"
   ]
  },
  {
   "cell_type": "code",
   "execution_count": null,
   "id": "bf7e7af5-a9cb-4272-931a-098ebc4ba724",
   "metadata": {},
   "outputs": [],
   "source": [
    "import pandas as pd\n",
    "\n",
    "df = pd.read_csv('data.csv', sep=\";\")\n",
    "\n",
    "# Replace all empty cells with the number 130\n",
    "df.fillna(130, inplace = True)\n",
    "\n",
    "# Replace NULL values in the \"Calories\" columns with the number 130\n",
    "df[\"Calories\"].fillna(130, inplace = True)\n",
    "\n",
    "print(df.to_string())"
   ]
  },
  {
   "cell_type": "markdown",
   "id": "39a8344e-6752-4c9c-abcd-7f9388ae2a0b",
   "metadata": {},
   "source": [
    "## Get Mean, Median, or Mode value\n",
    "\n",
    "- Mean: the average value (the sum of all values divided by number of values).\n",
    "- Median = the value in the middle, after you have sorted all values ascending.\n",
    "- Mode = the value that appears most frequently."
   ]
  },
  {
   "cell_type": "code",
   "execution_count": null,
   "id": "4da99467-fcce-456f-97a9-3cd76ae4581b",
   "metadata": {},
   "outputs": [],
   "source": [
    "import pandas as pd\n",
    "\n",
    "df = pd.read_csv('data.csv', sep=\";\")\n",
    "x = df[\"Calories\"].mean()\n",
    "y = df[\"Calories\"].median()\n",
    "z = df[\"Calories\"].mode()[0]\n",
    "print(x, y, z)"
   ]
  },
  {
   "cell_type": "markdown",
   "id": "7d76f529-3cb2-4093-a642-56e8ce3e0188",
   "metadata": {},
   "source": [
    "## Convert column to Date Format"
   ]
  },
  {
   "cell_type": "code",
   "execution_count": null,
   "id": "185d7572-18a8-4b0d-ac67-878398967489",
   "metadata": {},
   "outputs": [],
   "source": [
    "import pandas as pd\n",
    "\n",
    "df = pd.read_csv('data.csv', sep=\";\")\n",
    "\n",
    "df['Date'] = pd.to_datetime(df['Date'])\n",
    "\n",
    "print(df.to_string())"
   ]
  },
  {
   "cell_type": "markdown",
   "id": "2e114c5f-7eb6-4ef4-a9e6-9a13e33ab37b",
   "metadata": {},
   "source": [
    "## Fixing Wrong Data"
   ]
  },
  {
   "cell_type": "code",
   "execution_count": null,
   "id": "73df278d-4239-4273-a58e-77a64ac61499",
   "metadata": {},
   "outputs": [],
   "source": [
    "import pandas as pd\n",
    "\n",
    "df = pd.read_csv('data.csv', sep=\";\")\n",
    "\n",
    "# Replacing Values\n",
    "df.loc[7, 'Duration'] = 45\n",
    "\n",
    "# Replace with some boundaries for legal values\n",
    "for x in df.index:\n",
    "  if df.loc[x, \"Duration\"] > 120:\n",
    "    df.loc[x, \"Duration\"] = 120\n",
    "    \n",
    "# Removing Rows\n",
    "for x in df.index:\n",
    "  if df.loc[x, \"Duration\"] > 120:\n",
    "    df.drop(x, inplace = True)"
   ]
  },
  {
   "cell_type": "markdown",
   "id": "d37deb08-5f3e-4f7b-8040-7ea5251215da",
   "metadata": {},
   "source": [
    "## Removing Duplicates"
   ]
  },
  {
   "cell_type": "code",
   "execution_count": null,
   "id": "260c7e47-dc81-4c50-8547-a652127cac70",
   "metadata": {},
   "outputs": [],
   "source": [
    "import pandas as pd\n",
    "\n",
    "df = pd.read_csv('data.csv', sep=\";\")\n",
    "\n",
    "# Returns True for every row that is a duplicate, othwerwise False:\n",
    "print(df.duplicated())\n",
    "\n",
    "df.drop_duplicates(inplace = True)"
   ]
  },
  {
   "cell_type": "code",
   "execution_count": null,
   "id": "a3b20421-6d1e-40ca-9898-784f5db1a339",
   "metadata": {},
   "outputs": [],
   "source": []
  },
  {
   "cell_type": "code",
   "execution_count": null,
   "id": "d55161c3-b682-4e72-a044-31977d3f511e",
   "metadata": {},
   "outputs": [],
   "source": []
  }
 ],
 "metadata": {
  "kernelspec": {
   "display_name": "Python 3",
   "language": "python",
   "name": "python3"
  },
  "language_info": {
   "codemirror_mode": {
    "name": "ipython",
    "version": 3
   },
   "file_extension": ".py",
   "mimetype": "text/x-python",
   "name": "python",
   "nbconvert_exporter": "python",
   "pygments_lexer": "ipython3",
   "version": "3.8.0"
  }
 },
 "nbformat": 4,
 "nbformat_minor": 5
}
