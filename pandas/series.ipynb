{
 "cells": [
  {
   "cell_type": "markdown",
   "id": "55a35d2f-5f63-47cd-8243-c8dddfa6b924",
   "metadata": {},
   "source": [
    "# Series"
   ]
  },
  {
   "cell_type": "markdown",
   "id": "a9d4b0a9-8a9b-49a5-a78e-8108ce9ba7a2",
   "metadata": {},
   "source": [
    "It is a one-dimensional array holding data of any type."
   ]
  },
  {
   "cell_type": "markdown",
   "id": "27d73122-557c-4750-ae78-d76d41ffda44",
   "metadata": {},
   "source": [
    "## Create a Pandas Series from a list"
   ]
  },
  {
   "cell_type": "code",
   "execution_count": 4,
   "id": "6969b76d-1e14-4b9f-b42d-3dd4140d690a",
   "metadata": {},
   "outputs": [
    {
     "name": "stdout",
     "output_type": "stream",
     "text": [
      "0    1\n",
      "1    7\n",
      "2    2\n",
      "dtype: int64\n",
      "first element: 1\n"
     ]
    }
   ],
   "source": [
    "import pandas as pd\n",
    "\n",
    "a = [1, 7, 2]\n",
    "myvar = pd.Series(a)\n",
    "print(myvar)\n",
    "print('first element:', myvar[0])"
   ]
  },
  {
   "cell_type": "markdown",
   "id": "96cc777a-c650-44a1-8ce8-484ea3609069",
   "metadata": {},
   "source": [
    "## Labels"
   ]
  },
  {
   "cell_type": "code",
   "execution_count": 5,
   "id": "8ae78d8b-dd12-4e1e-b3dc-b1ed49a33b9b",
   "metadata": {},
   "outputs": [
    {
     "name": "stdout",
     "output_type": "stream",
     "text": [
      "x    1\n",
      "y    7\n",
      "z    2\n",
      "dtype: int64\n",
      "7\n"
     ]
    }
   ],
   "source": [
    "import pandas as pd\n",
    "\n",
    "a = [1, 7, 2]\n",
    "myvar = pd.Series(a, index = [\"x\", \"y\", \"z\"])\n",
    "print(myvar)\n",
    "print(myvar[\"y\"])"
   ]
  },
  {
   "cell_type": "markdown",
   "id": "d5178a7d-13e2-4d64-aefc-e925bf5d893c",
   "metadata": {},
   "source": [
    "## Create a Pandas Series from a dictionary"
   ]
  },
  {
   "cell_type": "code",
   "execution_count": 6,
   "id": "f69774d1-1d88-4675-8e13-07b302626579",
   "metadata": {},
   "outputs": [
    {
     "name": "stdout",
     "output_type": "stream",
     "text": [
      "day1    420\n",
      "day2    380\n",
      "day3    390\n",
      "dtype: int64\n"
     ]
    }
   ],
   "source": [
    "import pandas as pd\n",
    "\n",
    "calories = {\"day1\": 420, \"day2\": 380, \"day3\": 390}\n",
    "myvar = pd.Series(calories)\n",
    "print(myvar)"
   ]
  },
  {
   "cell_type": "markdown",
   "id": "9c434414-385a-4026-9d19-0ec0fd75a6aa",
   "metadata": {},
   "source": [
    "### Create a Series using selected labels"
   ]
  },
  {
   "cell_type": "code",
   "execution_count": 7,
   "id": "5008786a-cf3b-41f4-933b-227649761152",
   "metadata": {},
   "outputs": [
    {
     "name": "stdout",
     "output_type": "stream",
     "text": [
      "day1    420\n",
      "day2    380\n",
      "dtype: int64\n"
     ]
    }
   ],
   "source": [
    "import pandas as pd\n",
    "\n",
    "calories = {\"day1\": 420, \"day2\": 380, \"day3\": 390}\n",
    "myvar = pd.Series(calories, index = [\"day1\", \"day2\"])\n",
    "print(myvar)"
   ]
  },
  {
   "cell_type": "code",
   "execution_count": null,
   "id": "eddb9217-c5d9-46df-a5d1-267745950b70",
   "metadata": {},
   "outputs": [],
   "source": []
  }
 ],
 "metadata": {
  "kernelspec": {
   "display_name": "Python 3",
   "language": "python",
   "name": "python3"
  },
  "language_info": {
   "codemirror_mode": {
    "name": "ipython",
    "version": 3
   },
   "file_extension": ".py",
   "mimetype": "text/x-python",
   "name": "python",
   "nbconvert_exporter": "python",
   "pygments_lexer": "ipython3",
   "version": "3.8.0"
  }
 },
 "nbformat": 4,
 "nbformat_minor": 5
}
