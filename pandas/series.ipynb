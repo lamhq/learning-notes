{
 "cells": [
  {
   "cell_type": "markdown",
   "id": "55a35d2f-5f63-47cd-8243-c8dddfa6b924",
   "metadata": {},
   "source": [
    "# Series"
   ]
  },
  {
   "cell_type": "markdown",
   "id": "a9d4b0a9-8a9b-49a5-a78e-8108ce9ba7a2",
   "metadata": {},
   "source": [
    "The Series is the primary building block of pandas. It represents a one-dimensional array- like set of values of a single data type. While it can appear like an array, a Series has an associated index that can be used to perform very efficient retrievals of values based upon labels."
   ]
  },
  {
   "cell_type": "markdown",
   "id": "27d73122-557c-4750-ae78-d76d41ffda44",
   "metadata": {},
   "source": [
    "## Create a Pandas Series from a list"
   ]
  },
  {
   "cell_type": "code",
   "execution_count": null,
   "id": "6969b76d-1e14-4b9f-b42d-3dd4140d690a",
   "metadata": {},
   "outputs": [],
   "source": [
    "import pandas as pd\n",
    "\n",
    "myvar = pd.Series([1, 7, 2])\n",
    "myvar"
   ]
  },
  {
   "cell_type": "code",
   "execution_count": null,
   "metadata": {},
   "outputs": [],
   "source": [
    "# access first element\n",
    "myvar[0]"
   ]
  },
  {
   "source": [
    "# Create a Series consisting of a sequence of 5 idential values 2\n",
    "pd.Series([2]*5)"
   ],
   "cell_type": "code",
   "metadata": {},
   "execution_count": null,
   "outputs": []
  },
  {
   "cell_type": "markdown",
   "id": "d5178a7d-13e2-4d64-aefc-e925bf5d893c",
   "metadata": {},
   "source": [
    "## Create a Pandas Series from a dictionary"
   ]
  },
  {
   "cell_type": "code",
   "execution_count": null,
   "id": "f69774d1-1d88-4675-8e13-07b302626579",
   "metadata": {},
   "outputs": [],
   "source": [
    "calories = {\"day1\": 420, \"day2\": 380, \"day3\": 390}\n",
    "myvar = pd.Series(calories)\n",
    "myvar"
   ]
  },
  {
   "cell_type": "markdown",
   "id": "9c434414-385a-4026-9d19-0ec0fd75a6aa",
   "metadata": {},
   "source": [
    "## Create a Series using selected labels"
   ]
  },
  {
   "cell_type": "code",
   "execution_count": null,
   "metadata": {},
   "outputs": [],
   "source": [
    "myvar = pd.Series([1, 7, 2], index = [\"x\", \"y\", \"z\"])\n",
    "myvar[\"y\"]"
   ]
  },
  {
   "cell_type": "code",
   "execution_count": null,
   "id": "5008786a-cf3b-41f4-933b-227649761152",
   "metadata": {},
   "outputs": [],
   "source": [
    "# using selected labels\n",
    "calories = {\"day1\": 420, \"day2\": 380, \"day3\": 390}\n",
    "myvar = pd.Series(calories, index = [\"day1\", \"day2\"])\n",
    "print(myvar)"
   ]
  },
  {
   "source": [
    "## Creation using NumPy functions"
   ],
   "cell_type": "markdown",
   "metadata": {}
  },
  {
   "cell_type": "code",
   "execution_count": null,
   "metadata": {},
   "outputs": [],
   "source": [
    "import numpy as np\n",
    "\n",
    "# 4 through 8\n",
    "pd.Series(np.arange(4, 9))"
   ]
  },
  {
   "source": [
    "## The `.index` and `.values` properties"
   ],
   "cell_type": "markdown",
   "metadata": {}
  },
  {
   "cell_type": "code",
   "execution_count": null,
   "metadata": {},
   "outputs": [],
   "source": [
    "# get the values in the Series\n",
    "s = pd.Series([1, 2, 3])\n",
    "s.values"
   ]
  },
  {
   "cell_type": "code",
   "execution_count": null,
   "metadata": {},
   "outputs": [],
   "source": [
    "s.index"
   ]
  },
  {
   "source": [
    "## The size and shape of a Series"
   ],
   "cell_type": "markdown",
   "metadata": {}
  },
  {
   "cell_type": "code",
   "execution_count": null,
   "metadata": {},
   "outputs": [],
   "source": [
    "# example series\n",
    "s = pd.Series([0, 1, 2, 3])\n",
    "len(s)"
   ]
  },
  {
   "cell_type": "code",
   "execution_count": null,
   "metadata": {},
   "outputs": [],
   "source": [
    "# .size is also the # of items in the Series\n",
    "s.size"
   ]
  },
  {
   "cell_type": "code",
   "execution_count": null,
   "metadata": {},
   "outputs": [],
   "source": [
    "# .shape is a tuple with one value\n",
    "s.shape"
   ]
  },
  {
   "source": [
    "## Lookup"
   ],
   "cell_type": "markdown",
   "metadata": {}
  },
  {
   "cell_type": "code",
   "execution_count": null,
   "metadata": {},
   "outputs": [],
   "source": [
    "import numpy as np\n",
    "\n",
    "# we will use this series to examine lookups\n",
    "s1 = pd.Series(np.arange(10, 15), index=list('abcde'))\n",
    "s1"
   ]
  },
  {
   "cell_type": "code",
   "execution_count": null,
   "metadata": {},
   "outputs": [],
   "source": [
    "# get the value with label 'a'\n",
    "s1['a']"
   ]
  },
  {
   "cell_type": "code",
   "execution_count": null,
   "metadata": {},
   "outputs": [],
   "source": [
    "# get multiple items\n",
    "s1[['d', 'b']]"
   ]
  },
  {
   "cell_type": "code",
   "execution_count": null,
   "metadata": {},
   "outputs": [],
   "source": [
    "# explicitly lookup by position\n",
    "s1.iloc[[0, 2]]"
   ]
  },
  {
   "source": [
    "## Slicing"
   ],
   "cell_type": "markdown",
   "metadata": {}
  },
  {
   "cell_type": "code",
   "execution_count": null,
   "metadata": {},
   "outputs": [],
   "source": []
  }
 ],
 "metadata": {
  "kernelspec": {
   "name": "python380jvsc74a57bd0aee8b7b246df8f9039afb4144a1f6fd8d2ca17a180786b69acc140d282b71a49",
   "display_name": "Python 3.8.0 64-bit"
  },
  "language_info": {
   "codemirror_mode": {
    "name": "ipython",
    "version": 3
   },
   "file_extension": ".py",
   "mimetype": "text/x-python",
   "name": "python",
   "nbconvert_exporter": "python",
   "pygments_lexer": "ipython3",
   "version": "3.8.0"
  },
  "metadata": {
   "interpreter": {
    "hash": "aee8b7b246df8f9039afb4144a1f6fd8d2ca17a180786b69acc140d282b71a49"
   }
  }
 },
 "nbformat": 4,
 "nbformat_minor": 5
}