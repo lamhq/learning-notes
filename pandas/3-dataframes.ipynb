{
 "cells": [
  {
   "cell_type": "markdown",
   "id": "d2f0fe63-73b3-4ad3-8e99-3ee06f4b08d2",
   "metadata": {},
   "source": [
    "# DataFrames"
   ]
  },
  {
   "cell_type": "markdown",
   "id": "baf812b1-eba2-4ebe-9308-412c2cfc4d6b",
   "metadata": {},
   "source": [
    "A Pandas DataFrame is a 2 dimensional data structure, like a 2 dimensional array, or a table with rows and columns.\n",
    "\n",
    "Each column of a data frame is a pandas `Series`"
   ]
  },
  {
   "cell_type": "code",
   "execution_count": null,
   "id": "5b556da7",
   "metadata": {},
   "outputs": [],
   "source": [
    "import pandas as pd\n",
    "import numpy as np"
   ]
  },
  {
   "cell_type": "markdown",
   "id": "203d51b4",
   "metadata": {},
   "source": [
    "## Create a DataFrame from arrays"
   ]
  },
  {
   "cell_type": "code",
   "execution_count": null,
   "id": "0ec8db20-46ad-40b5-bf34-6a89664f2ba6",
   "metadata": {},
   "outputs": [],
   "source": [
    "data = {\n",
    "  \"calories\": [420, 380, 390],\n",
    "  \"duration\": [50, 40, 45]\n",
    "}\n",
    "df = pd.DataFrame(data)\n",
    "df"
   ]
  },
  {
   "cell_type": "code",
   "execution_count": null,
   "id": "2de95bec-228c-4787-baab-ab3eb0bd65e2",
   "metadata": {},
   "outputs": [],
   "source": [
    "# using named indexes\n",
    "df = pd.DataFrame(data, index = [\"day1\", \"day2\", \"day3\"])\n",
    "df"
   ]
  },
  {
   "cell_type": "markdown",
   "id": "0cbabf14-fbd8-48fe-8515-2c696a15f610",
   "metadata": {},
   "source": [
    "## Creating a DataFrame from a CSV file"
   ]
  },
  {
   "cell_type": "code",
   "execution_count": null,
   "id": "6477c4d8-fa4d-409a-b014-592546cb602b",
   "metadata": {},
   "outputs": [],
   "source": [
    "# read in the data and print the first five rows\n",
    "# use the Symbol column as the index, and \n",
    "# only read in columns in positions 0, 2, 3, 7\n",
    "sp500 = pd.read_csv(\"data/sp500.csv\", index_col='Symbol', usecols=[0, 2, 3, 7])\n",
    "sp500"
   ]
  },
  {
   "cell_type": "markdown",
   "id": "417b5e6d",
   "metadata": {},
   "source": [
    "## Create a DataFrame from Series"
   ]
  },
  {
   "cell_type": "code",
   "execution_count": null,
   "id": "3df26ea7",
   "metadata": {},
   "outputs": [],
   "source": [
    "dates = pd.date_range('2016-04-01', '2016-04-06')\n",
    "temps1 = pd.Series([80, 82, 85, 90, 83, 87], index = dates)\n",
    "temps2 = pd.Series([70, 75, 69, 83, 79, 77], index = dates)\n",
    "temps_df = pd.DataFrame({\n",
    "    'Missoula': temps1, \n",
    "    'Philadelphia': temps2\n",
    "})\n",
    "temps_df"
   ]
  },
  {
   "cell_type": "code",
   "execution_count": null,
   "metadata": {},
   "outputs": [],
   "source": [
    "# retrieve the columns index\n",
    "temps_df.columns"
   ]
  },
  {
   "cell_type": "code",
   "execution_count": null,
   "metadata": {},
   "outputs": [],
   "source": [
    "# how many rows?\n",
    "len(temps_df)"
   ]
  },
  {
   "cell_type": "code",
   "execution_count": null,
   "metadata": {},
   "outputs": [],
   "source": [
    "# what is the dimensionality\n",
    "temps_df.shape"
   ]
  },
  {
   "cell_type": "markdown",
   "id": "ec75bbf4-a358-44e9-8f28-df9da34b066d",
   "metadata": {},
   "source": [
    "## Accessing row"
   ]
  },
  {
   "cell_type": "code",
   "execution_count": null,
   "id": "a3a6ce35-6c6f-4a5d-a4ab-e1ce90c489da",
   "metadata": {},
   "outputs": [],
   "source": [
    "# get the row with index '2016-04-01'\n",
    "temps_df.loc['2016-04-01']"
   ]
  },
  {
   "cell_type": "code",
   "execution_count": null,
   "id": "c99b7730",
   "metadata": {},
   "outputs": [],
   "source": [
    "# get the row at array position 1\n",
    "temps_df.iloc[1]"
   ]
  },
  {
   "cell_type": "code",
   "execution_count": null,
   "metadata": {},
   "outputs": [],
   "source": [
    "# select rows from postion 1 to 3\n",
    "temps_df.iloc[1:3]"
   ]
  },
  {
   "cell_type": "code",
   "execution_count": null,
   "id": "50adf3a3",
   "metadata": {},
   "outputs": [],
   "source": [
    "# select rows with specific indexes:\n",
    "temps_df.loc[['2016-04-01', '2016-04-03']]"
   ]
  },
  {
   "cell_type": "code",
   "execution_count": null,
   "metadata": {},
   "outputs": [],
   "source": [
    "# select rows with ranged indexes\n",
    "temps_df.loc['2016-04-01':'2016-04-03']"
   ]
  },
  {
   "cell_type": "code",
   "execution_count": null,
   "metadata": {},
   "outputs": [],
   "source": [
    "# get the location of 2016-04-01 and 2016-04-03 in the index\n",
    "i1 = temps_df.index.get_loc('2016-04-01')\n",
    "i2 = temps_df.index.get_loc('2016-04-03')\n",
    "(i1, i2)"
   ]
  },
  {
   "cell_type": "code",
   "execution_count": null,
   "metadata": {},
   "outputs": [],
   "source": [
    "# and get the rows\n",
    "temps_df.iloc[[i1, i2]]"
   ]
  },
  {
   "cell_type": "markdown",
   "id": "dfbe9edd",
   "metadata": {},
   "source": [
    "## Accessing column"
   ]
  },
  {
   "cell_type": "code",
   "execution_count": null,
   "id": "ed43a453",
   "metadata": {},
   "outputs": [],
   "source": [
    "# get the column with the name Missoula\n",
    "temps_df['Missoula']"
   ]
  },
  {
   "cell_type": "code",
   "execution_count": null,
   "id": "22e2d236",
   "metadata": {},
   "outputs": [],
   "source": [
    "# return both columns in a different order\n",
    "temps_df[['Philadelphia', 'Missoula']]"
   ]
  },
  {
   "cell_type": "code",
   "execution_count": null,
   "id": "d123180f",
   "metadata": {},
   "outputs": [],
   "source": [
    "# retrieve the Missoula column through property syntax\n",
    "temps_df.Missoula.head()"
   ]
  },
  {
   "source": [
    "## Scalar lookup"
   ],
   "cell_type": "markdown",
   "metadata": {}
  },
  {
   "cell_type": "code",
   "execution_count": null,
   "metadata": {},
   "outputs": [],
   "source": [
    "# by label in both the index and column\n",
    "temps_df.at['2016-04-03', 'Missoula']"
   ]
  },
  {
   "cell_type": "code",
   "execution_count": null,
   "metadata": {},
   "outputs": [],
   "source": [
    "# by location.  Row 0, column 1\n",
    "temps_df.iat[2, 0]"
   ]
  },
  {
   "cell_type": "markdown",
   "id": "4cf7cf46",
   "metadata": {},
   "source": [
    "## Slicing data"
   ]
  },
  {
   "cell_type": "code",
   "execution_count": null,
   "metadata": {},
   "outputs": [],
   "source": [
    "# first five rows\n",
    "sp500[:5]"
   ]
  },
  {
   "cell_type": "code",
   "execution_count": null,
   "metadata": {},
   "outputs": [],
   "source": [
    "# ABT through ACN labels\n",
    "sp500['ABT':'ACN']"
   ]
  },
  {
   "cell_type": "code",
   "execution_count": null,
   "id": "8cf93586",
   "metadata": {},
   "outputs": [],
   "source": [
    "# slice the Price column for the rows at \n",
    "# location 1 through 4 (as though it is an array)\n",
    "sp500.Price[1:4]"
   ]
  },
  {
   "cell_type": "code",
   "execution_count": null,
   "id": "409a1eb0",
   "metadata": {},
   "outputs": [],
   "source": [
    "# get the values in the Price column in rows 1, 3 and 5\n",
    "# using 0-based location\n",
    "sp500.iloc[[1, 3, 5]].Price"
   ]
  },
  {
   "source": [
    "## Selecting rows using Boolean selection"
   ],
   "cell_type": "markdown",
   "metadata": {}
  },
  {
   "cell_type": "code",
   "execution_count": null,
   "id": "bb1788f9",
   "metadata": {},
   "outputs": [],
   "source": [
    "# what rows have a price < 100?\n",
    "sp500.Price < 100"
   ]
  },
  {
   "cell_type": "code",
   "execution_count": null,
   "id": "ba034aec",
   "metadata": {},
   "outputs": [],
   "source": [
    "# now get the rows with Price < 100\n",
    "sp500[sp500.Price < 100]"
   ]
  },
  {
   "cell_type": "code",
   "execution_count": null,
   "metadata": {},
   "outputs": [],
   "source": [
    "# get only the Price where Price is < 40 and Sector = Health Care\n",
    "r = sp500[(sp500.Price < 40) &  (sp500.Sector == 'Health Care')] [['Price','Sector']]\n",
    "r"
   ]
  },
  {
   "cell_type": "code",
   "execution_count": null,
   "metadata": {},
   "outputs": [],
   "source": [
    "# select the price and sector columns for ABT and ZTS\n",
    "sp500.loc[['ABT', 'ZTS']][['Sector', 'Price']]"
   ]
  },
  {
   "cell_type": "markdown",
   "id": "e95dbf3a-3cb3-4cf7-b7b6-7c520bcd4fb4",
   "metadata": {},
   "source": [
    "## Viewing the Data"
   ]
  },
  {
   "cell_type": "code",
   "execution_count": null,
   "id": "c0dd55bd-53f5-4348-a26d-4e0f367cf151",
   "metadata": {},
   "outputs": [],
   "source": [
    "# printing the first 5 rows of the DataFrame\n",
    "sp500.head()"
   ]
  },
  {
   "cell_type": "code",
   "execution_count": null,
   "metadata": {},
   "outputs": [],
   "source": [
    "# Print the last 5 rows of the DataFrame\n",
    "sp500.tail()"
   ]
  },
  {
   "cell_type": "code",
   "execution_count": null,
   "metadata": {},
   "outputs": [],
   "source": [
    "# Print information about the data\n",
    "sp500.info()"
   ]
  },
  {
   "cell_type": "markdown",
   "id": "2939de59",
   "metadata": {},
   "source": [
    "## Visualization"
   ]
  },
  {
   "cell_type": "code",
   "execution_count": null,
   "id": "2cedaf62",
   "metadata": {},
   "outputs": [],
   "source": [
    "# plots the values in the Close column\n",
    "df.Close.plot()"
   ]
  }
 ],
 "metadata": {
  "kernelspec": {
   "name": "python380jvsc74a57bd0aee8b7b246df8f9039afb4144a1f6fd8d2ca17a180786b69acc140d282b71a49",
   "display_name": "Python 3.8.0 64-bit"
  },
  "language_info": {
   "codemirror_mode": {
    "name": "ipython",
    "version": 3
   },
   "file_extension": ".py",
   "mimetype": "text/x-python",
   "name": "python",
   "nbconvert_exporter": "python",
   "pygments_lexer": "ipython3",
   "version": "3.8.0"
  },
  "metadata": {
   "interpreter": {
    "hash": "aee8b7b246df8f9039afb4144a1f6fd8d2ca17a180786b69acc140d282b71a49"
   }
  }
 },
 "nbformat": 4,
 "nbformat_minor": 5
}