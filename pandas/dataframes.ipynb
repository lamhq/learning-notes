{
 "cells": [
  {
   "cell_type": "markdown",
   "id": "d2f0fe63-73b3-4ad3-8e99-3ee06f4b08d2",
   "metadata": {},
   "source": [
    "# DataFrames"
   ]
  },
  {
   "cell_type": "markdown",
   "id": "baf812b1-eba2-4ebe-9308-412c2cfc4d6b",
   "metadata": {},
   "source": [
    "A Pandas DataFrame is a 2 dimensional data structure, like a 2 dimensional array, or a table with rows and columns."
   ]
  },
  {
   "cell_type": "code",
   "execution_count": null,
   "id": "0ec8db20-46ad-40b5-bf34-6a89664f2ba6",
   "metadata": {},
   "outputs": [],
   "source": [
    "import pandas as pd\n",
    "\n",
    "data = {\n",
    "  \"calories\": [420, 380, 390],\n",
    "  \"duration\": [50, 40, 45]\n",
    "}\n",
    "df = pd.DataFrame(data)\n",
    "print(df) "
   ]
  },
  {
   "cell_type": "markdown",
   "id": "ec75bbf4-a358-44e9-8f28-df9da34b066d",
   "metadata": {},
   "source": [
    "## Accessing row"
   ]
  },
  {
   "cell_type": "code",
   "execution_count": null,
   "id": "a3a6ce35-6c6f-4a5d-a4ab-e1ce90c489da",
   "metadata": {},
   "outputs": [],
   "source": [
    "#refer to the row index:\n",
    "print(df.loc[0])\n",
    "\n",
    "# use a list of indexes (row 0 and 1):\n",
    "print(df.loc[[0, 1]])"
   ]
  },
  {
   "cell_type": "markdown",
   "id": "0e59d10d-3248-4e7f-b751-98cd19564f9b",
   "metadata": {},
   "source": [
    "## Named Indexes"
   ]
  },
  {
   "cell_type": "code",
   "execution_count": null,
   "id": "2de95bec-228c-4787-baab-ab3eb0bd65e2",
   "metadata": {},
   "outputs": [],
   "source": [
    "import pandas as pd\n",
    "\n",
    "data = {\n",
    "  \"calories\": [420, 380, 390],\n",
    "  \"duration\": [50, 40, 45]\n",
    "}\n",
    "\n",
    "df = pd.DataFrame(data, index = [\"day1\", \"day2\", \"day3\"])\n",
    "print(df) \n",
    "print(df.loc[\"day2\"])"
   ]
  },
  {
   "cell_type": "markdown",
   "id": "79bb1684-328b-4b44-ad60-16e83a820c87",
   "metadata": {},
   "source": [
    "## Load CSV File Into a DataFrame"
   ]
  },
  {
   "cell_type": "code",
   "execution_count": null,
   "id": "699f50f8-e6bd-4d4a-a3cd-5716aeb0c6c4",
   "metadata": {},
   "outputs": [],
   "source": [
    "import pandas as pd\n",
    "\n",
    "df = pd.read_csv('data.csv')\n",
    "\n",
    "# print the entire DataFrame\n",
    "print(df.to_string())\n",
    "\n",
    "# print the first 5 rows, and the last 5 rows\n",
    "print(df)"
   ]
  },
  {
   "cell_type": "markdown",
   "id": "b927ac5a-09e6-4cb9-97f0-13525d90f004",
   "metadata": {},
   "source": [
    "## Load the JSON file into a DataFrame"
   ]
  },
  {
   "cell_type": "code",
   "execution_count": null,
   "id": "3010dd82-6f84-4944-8182-df84131744e2",
   "metadata": {},
   "outputs": [],
   "source": [
    "import pandas as pd\n",
    "\n",
    "df = pd.read_json('data.json')\n",
    "\n",
    "print(df.to_string()) "
   ]
  },
  {
   "cell_type": "markdown",
   "id": "e95dbf3a-3cb3-4cf7-b7b6-7c520bcd4fb4",
   "metadata": {},
   "source": [
    "## Viewing the Data"
   ]
  },
  {
   "cell_type": "code",
   "execution_count": null,
   "id": "c0dd55bd-53f5-4348-a26d-4e0f367cf151",
   "metadata": {},
   "outputs": [],
   "source": [
    "import pandas as pd\n",
    "\n",
    "df = pd.read_csv('data.csv', sep=';')\n",
    "\n",
    "# printing the first 5 rows of the DataFrame\n",
    "print(df.head())\n",
    "\n",
    "# Print the last 5 rows of the DataFrame\n",
    "print(df.tail()) \n",
    "\n",
    "# Print information about the data\n",
    "print(df.info()) "
   ]
  },
  {
   "cell_type": "code",
   "execution_count": null,
   "id": "5dc197b0-613d-44de-8b79-5c112cd4d950",
   "metadata": {},
   "outputs": [],
   "source": []
  }
 ],
 "metadata": {
  "kernelspec": {
   "display_name": "Python 3",
   "language": "python",
   "name": "python3"
  },
  "language_info": {
   "codemirror_mode": {
    "name": "ipython",
    "version": 3
   },
   "file_extension": ".py",
   "mimetype": "text/x-python",
   "name": "python",
   "nbconvert_exporter": "python",
   "pygments_lexer": "ipython3",
   "version": "3.8.0"
  }
 },
 "nbformat": 4,
 "nbformat_minor": 5
}
