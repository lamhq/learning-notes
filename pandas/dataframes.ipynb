{
 "cells": [
  {
   "cell_type": "markdown",
   "id": "d2f0fe63-73b3-4ad3-8e99-3ee06f4b08d2",
   "metadata": {},
   "source": [
    "# DataFrames"
   ]
  },
  {
   "cell_type": "markdown",
   "id": "baf812b1-eba2-4ebe-9308-412c2cfc4d6b",
   "metadata": {},
   "source": [
    "A Pandas DataFrame is a 2 dimensional data structure, like a 2 dimensional array, or a table with rows and columns.\n",
    "\n",
    "Each column of a data frame is a pandas `Series`"
   ]
  },
  {
   "cell_type": "code",
   "execution_count": null,
   "id": "5b556da7",
   "metadata": {},
   "outputs": [],
   "source": [
    "import pandas as pd\n",
    "import numpy as np"
   ]
  },
  {
   "cell_type": "markdown",
   "id": "203d51b4",
   "metadata": {},
   "source": [
    "## Create a DataFrame from arrays"
   ]
  },
  {
   "cell_type": "code",
   "execution_count": null,
   "id": "0ec8db20-46ad-40b5-bf34-6a89664f2ba6",
   "metadata": {},
   "outputs": [],
   "source": [
    "data = {\n",
    "  \"calories\": [420, 380, 390],\n",
    "  \"duration\": [50, 40, 45]\n",
    "}\n",
    "df = pd.DataFrame(data)\n",
    "df"
   ]
  },
  {
   "cell_type": "code",
   "execution_count": null,
   "id": "2de95bec-228c-4787-baab-ab3eb0bd65e2",
   "metadata": {},
   "outputs": [],
   "source": [
    "# using named indexes\n",
    "data = {\n",
    "  \"calories\": [420, 380, 390],\n",
    "  \"duration\": [50, 40, 45]\n",
    "}\n",
    "df = pd.DataFrame(data, index = [\"day1\", \"day2\", \"day3\"])\n",
    "df"
   ]
  },
  {
   "cell_type": "markdown",
   "id": "0cbabf14-fbd8-48fe-8515-2c696a15f610",
   "metadata": {},
   "source": [
    "## Creating a DataFrame from a CSV file"
   ]
  },
  {
   "cell_type": "code",
   "execution_count": null,
   "id": "6477c4d8-fa4d-409a-b014-592546cb602b",
   "metadata": {},
   "outputs": [],
   "source": [
    "df = pd.read_csv('data/goog.csv', parse_dates=['Date'], index_col='Date', usecols=[0,1,4])\n",
    "df"
   ]
  },
  {
   "cell_type": "code",
   "execution_count": null,
   "id": "f9fd1ae4-0d0e-4675-87f4-b125882e8136",
   "metadata": {},
   "outputs": [],
   "source": [
    "# verify the index is Date column\n",
    "df.index"
   ]
  },
  {
   "cell_type": "markdown",
   "id": "3d9aaacd-ed1a-4d15-a396-f686ae29364e",
   "metadata": {},
   "source": [
    "## Creating a DataFrame from a JSON file"
   ]
  },
  {
   "cell_type": "code",
   "execution_count": null,
   "id": "775a7fab-0bc1-402a-8658-87cbe69dbe31",
   "metadata": {},
   "outputs": [],
   "source": [
    "df = pd.read_json('data.json')\n",
    "df"
   ]
  },
  {
   "cell_type": "markdown",
   "id": "417b5e6d",
   "metadata": {},
   "source": [
    "## Create a DataFrame from Series"
   ]
  },
  {
   "cell_type": "code",
   "execution_count": null,
   "id": "3df26ea7",
   "metadata": {},
   "outputs": [],
   "source": [
    "dates = pd.date_range('2016-04-01', '2016-04-06')\n",
    "temps1 = pd.Series([80, 82, 85, 90, 83, 87], index = dates)\n",
    "temps2 = pd.Series([70, 75, 69, 83, 79, 77], index = dates)\n",
    "temps_df = pd.DataFrame({\n",
    "    'Missoula': temps1, \n",
    "    'Philadelphia': temps2\n",
    "})\n",
    "temps_df"
   ]
  },
  {
   "cell_type": "code",
   "execution_count": null,
   "metadata": {},
   "outputs": [],
   "source": [
    "# retrieve the columns index\n",
    "temps_df.columns"
   ]
  },
  {
   "cell_type": "code",
   "execution_count": null,
   "metadata": {},
   "outputs": [],
   "source": [
    "# how many rows?\n",
    "len(temps_df)"
   ]
  },
  {
   "cell_type": "code",
   "execution_count": null,
   "metadata": {},
   "outputs": [],
   "source": [
    "# what is the dimensionality\n",
    "temps_df.shape"
   ]
  },
  {
   "cell_type": "markdown",
   "id": "ec75bbf4-a358-44e9-8f28-df9da34b066d",
   "metadata": {},
   "source": [
    "## Accessing row"
   ]
  },
  {
   "cell_type": "code",
   "execution_count": null,
   "id": "a3a6ce35-6c6f-4a5d-a4ab-e1ce90c489da",
   "metadata": {},
   "outputs": [],
   "source": [
    "# get the row with index '2016-04-01'\n",
    "temps_df.loc['2016-04-01']"
   ]
  },
  {
   "cell_type": "code",
   "execution_count": null,
   "id": "c99b7730",
   "metadata": {},
   "outputs": [],
   "source": [
    "# get the row at array position 1\n",
    "temps_df.iloc[1]"
   ]
  },
  {
   "cell_type": "code",
   "execution_count": null,
   "id": "50adf3a3",
   "metadata": {},
   "outputs": [],
   "source": [
    "# use a list of indexes:\n",
    "temps_df.loc[['2016-04-01', '2016-04-03']]"
   ]
  },
  {
   "cell_type": "code",
   "execution_count": null,
   "metadata": {},
   "outputs": [],
   "source": [
    "# get the location of 2016-04-01 and 2016-04-03 in the index\n",
    "i1 = temps_df.index.get_loc('2016-04-01')\n",
    "i2 = temps_df.index.get_loc('2016-04-03')\n",
    "(i1, i2)"
   ]
  },
  {
   "cell_type": "code",
   "execution_count": null,
   "metadata": {},
   "outputs": [],
   "source": [
    "# and get the rows\n",
    "temps_df.iloc[[i1, i2]]"
   ]
  },
  {
   "cell_type": "markdown",
   "id": "dfbe9edd",
   "metadata": {},
   "source": [
    "## Accessing column"
   ]
  },
  {
   "cell_type": "code",
   "execution_count": null,
   "id": "ed43a453",
   "metadata": {},
   "outputs": [],
   "source": [
    "# get the column with the name Missoula\n",
    "temps_df['Missoula']"
   ]
  },
  {
   "cell_type": "code",
   "execution_count": null,
   "id": "22e2d236",
   "metadata": {},
   "outputs": [],
   "source": [
    "# return both columns in a different order\n",
    "temps_df[['Philadelphia', 'Missoula']]"
   ]
  },
  {
   "cell_type": "code",
   "execution_count": null,
   "id": "d123180f",
   "metadata": {},
   "outputs": [],
   "source": [
    "# retrieve the Missoula column through property syntax\n",
    "temps_df.Missoula.head()"
   ]
  },
  {
   "cell_type": "markdown",
   "id": "e81cc823",
   "metadata": {},
   "source": [
    "## Add new column"
   ]
  },
  {
   "cell_type": "code",
   "execution_count": null,
   "id": "c0249c51",
   "metadata": {},
   "outputs": [],
   "source": [
    "# add a column to temp_df which contains the difference in temps\n",
    "temps_df['Difference'] = temps_df.Missoula - temps_df.Philadelphia\n",
    "temps_df"
   ]
  },
  {
   "source": [
    "## Scalar lookup"
   ],
   "cell_type": "markdown",
   "metadata": {}
  },
  {
   "cell_type": "code",
   "execution_count": null,
   "metadata": {},
   "outputs": [],
   "source": [
    "# by label in both the index and column\n",
    "temps_df.at['2016-04-03', 'Missoula']"
   ]
  },
  {
   "cell_type": "code",
   "execution_count": null,
   "metadata": {},
   "outputs": [],
   "source": [
    "# by location.  Row 0, column 1\n",
    "temps_df.iat[2, 0]"
   ]
  },
  {
   "cell_type": "markdown",
   "id": "4cf7cf46",
   "metadata": {},
   "source": [
    "## Slicing data"
   ]
  },
  {
   "cell_type": "code",
   "execution_count": null,
   "id": "8cf93586",
   "metadata": {},
   "outputs": [],
   "source": [
    "# slice the temp differences column for the rows at \n",
    "# location 1 through 4 (as though it is an array)\n",
    "temps_df.Difference[1:4]"
   ]
  },
  {
   "cell_type": "code",
   "execution_count": null,
   "id": "409a1eb0",
   "metadata": {},
   "outputs": [],
   "source": [
    "# get the values in the Differences column in tows 1, 3 and 5\n",
    "# using 0-based location\n",
    "temps_df.iloc[[1, 3, 5]].Difference"
   ]
  },
  {
   "cell_type": "code",
   "execution_count": null,
   "id": "bb1788f9",
   "metadata": {},
   "outputs": [],
   "source": [
    "# which values in the Missoula column are > 82?\n",
    "temps_df.Missoula > 82"
   ]
  },
  {
   "cell_type": "code",
   "execution_count": null,
   "id": "ba034aec",
   "metadata": {},
   "outputs": [],
   "source": [
    "# return the rows where the temps for Missoula > 82\n",
    "temps_df[temps_df.Missoula > 82]"
   ]
  },
  {
   "cell_type": "code",
   "execution_count": 50,
   "metadata": {},
   "outputs": [
    {
     "output_type": "execute_result",
     "data": {
      "text/plain": [
       "            Missoula  Philadelphia\n",
       "2016-04-04        90            83\n",
       "2016-04-05        83            79\n",
       "2016-04-06        87            77"
      ],
      "text/html": "<div>\n<style scoped>\n    .dataframe tbody tr th:only-of-type {\n        vertical-align: middle;\n    }\n\n    .dataframe tbody tr th {\n        vertical-align: top;\n    }\n\n    .dataframe thead th {\n        text-align: right;\n    }\n</style>\n<table border=\"1\" class=\"dataframe\">\n  <thead>\n    <tr style=\"text-align: right;\">\n      <th></th>\n      <th>Missoula</th>\n      <th>Philadelphia</th>\n    </tr>\n  </thead>\n  <tbody>\n    <tr>\n      <th>2016-04-04</th>\n      <td>90</td>\n      <td>83</td>\n    </tr>\n    <tr>\n      <th>2016-04-05</th>\n      <td>83</td>\n      <td>79</td>\n    </tr>\n    <tr>\n      <th>2016-04-06</th>\n      <td>87</td>\n      <td>77</td>\n    </tr>\n  </tbody>\n</table>\n</div>"
     },
     "metadata": {},
     "execution_count": 50
    }
   ],
   "source": [
    "temps_df[(temps_df.Missoula > 82) & (temps_df.Philadelphia > 75)]"
   ]
  },
  {
   "cell_type": "code",
   "execution_count": 51,
   "metadata": {},
   "outputs": [
    {
     "output_type": "execute_result",
     "data": {
      "text/plain": [
       "            Missoula\n",
       "2016-04-01        80\n",
       "2016-04-03        85"
      ],
      "text/html": "<div>\n<style scoped>\n    .dataframe tbody tr th:only-of-type {\n        vertical-align: middle;\n    }\n\n    .dataframe tbody tr th {\n        vertical-align: top;\n    }\n\n    .dataframe thead th {\n        text-align: right;\n    }\n</style>\n<table border=\"1\" class=\"dataframe\">\n  <thead>\n    <tr style=\"text-align: right;\">\n      <th></th>\n      <th>Missoula</th>\n    </tr>\n  </thead>\n  <tbody>\n    <tr>\n      <th>2016-04-01</th>\n      <td>80</td>\n    </tr>\n    <tr>\n      <th>2016-04-03</th>\n      <td>85</td>\n    </tr>\n  </tbody>\n</table>\n</div>"
     },
     "metadata": {},
     "execution_count": 51
    }
   ],
   "source": [
    "# select the Missoula column for '2016-04-01' and '2016-04-03'\n",
    "temps_df.loc[['2016-04-01', '2016-04-03']][['Missoula']]"
   ]
  },
  {
   "cell_type": "markdown",
   "id": "e95dbf3a-3cb3-4cf7-b7b6-7c520bcd4fb4",
   "metadata": {},
   "source": [
    "## Viewing the Data"
   ]
  },
  {
   "cell_type": "code",
   "execution_count": null,
   "id": "c0dd55bd-53f5-4348-a26d-4e0f367cf151",
   "metadata": {},
   "outputs": [],
   "source": [
    "# printing the first 5 rows of the DataFrame\n",
    "print(df.head())\n",
    "\n",
    "# Print the last 5 rows of the DataFrame\n",
    "print(df.tail()) \n",
    "\n",
    "# Print information about the data\n",
    "print(df.info()) "
   ]
  },
  {
   "cell_type": "markdown",
   "id": "2939de59",
   "metadata": {},
   "source": [
    "## Visualization"
   ]
  },
  {
   "cell_type": "code",
   "execution_count": null,
   "id": "2cedaf62",
   "metadata": {},
   "outputs": [],
   "source": [
    "# plots the values in the Close column\n",
    "df.Close.plot()"
   ]
  }
 ],
 "metadata": {
  "kernelspec": {
   "name": "python380jvsc74a57bd0aee8b7b246df8f9039afb4144a1f6fd8d2ca17a180786b69acc140d282b71a49",
   "display_name": "Python 3.8.0 64-bit"
  },
  "language_info": {
   "codemirror_mode": {
    "name": "ipython",
    "version": 3
   },
   "file_extension": ".py",
   "mimetype": "text/x-python",
   "name": "python",
   "nbconvert_exporter": "python",
   "pygments_lexer": "ipython3",
   "version": "3.8.0"
  },
  "metadata": {
   "interpreter": {
    "hash": "aee8b7b246df8f9039afb4144a1f6fd8d2ca17a180786b69acc140d282b71a49"
   }
  }
 },
 "nbformat": 4,
 "nbformat_minor": 5
}