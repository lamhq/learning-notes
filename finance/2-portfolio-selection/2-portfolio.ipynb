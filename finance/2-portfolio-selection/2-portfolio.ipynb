{
 "cells": [
  {
   "attachments": {},
   "cell_type": "markdown",
   "metadata": {},
   "source": [
    "# Portfolio Risk & Return"
   ]
  },
  {
   "cell_type": "code",
   "execution_count": 26,
   "metadata": {},
   "outputs": [],
   "source": [
    "import pandas as pd\n",
    "import numpy as np"
   ]
  },
  {
   "attachments": {},
   "cell_type": "markdown",
   "metadata": {},
   "source": [
    "## Expected Return"
   ]
  },
  {
   "cell_type": "code",
   "execution_count": 27,
   "metadata": {},
   "outputs": [],
   "source": [
    "def port_er(df, prob, weights):\n",
    "    # calculate expected returns of each assets\n",
    "    asset_returns = np.dot(df.T, prob)\n",
    "    # calculate weighted return\n",
    "    return np.dot(asset_returns, weights)"
   ]
  },
  {
   "cell_type": "code",
   "execution_count": 48,
   "metadata": {},
   "outputs": [
    {
     "data": {
      "text/html": [
       "<div>\n",
       "<style scoped>\n",
       "    .dataframe tbody tr th:only-of-type {\n",
       "        vertical-align: middle;\n",
       "    }\n",
       "\n",
       "    .dataframe tbody tr th {\n",
       "        vertical-align: top;\n",
       "    }\n",
       "\n",
       "    .dataframe thead th {\n",
       "        text-align: right;\n",
       "    }\n",
       "</style>\n",
       "<table border=\"1\" class=\"dataframe\">\n",
       "  <thead>\n",
       "    <tr style=\"text-align: right;\">\n",
       "      <th></th>\n",
       "      <th>Toyota</th>\n",
       "      <th>Pfizer</th>\n",
       "      <th>Walmart</th>\n",
       "    </tr>\n",
       "  </thead>\n",
       "  <tbody>\n",
       "    <tr>\n",
       "      <th>0</th>\n",
       "      <td>6.0</td>\n",
       "      <td>2.5</td>\n",
       "      <td>4.5</td>\n",
       "    </tr>\n",
       "    <tr>\n",
       "      <th>1</th>\n",
       "      <td>7.5</td>\n",
       "      <td>-0.5</td>\n",
       "      <td>5.5</td>\n",
       "    </tr>\n",
       "    <tr>\n",
       "      <th>2</th>\n",
       "      <td>2.0</td>\n",
       "      <td>1.0</td>\n",
       "      <td>4.0</td>\n",
       "    </tr>\n",
       "    <tr>\n",
       "      <th>3</th>\n",
       "      <td>-3.0</td>\n",
       "      <td>13.0</td>\n",
       "      <td>-1.0</td>\n",
       "    </tr>\n",
       "  </tbody>\n",
       "</table>\n",
       "</div>"
      ],
      "text/plain": [
       "   Toyota  Pfizer  Walmart\n",
       "0     6.0     2.5      4.5\n",
       "1     7.5    -0.5      5.5\n",
       "2     2.0     1.0      4.0\n",
       "3    -3.0    13.0     -1.0"
      ]
     },
     "execution_count": 48,
     "metadata": {},
     "output_type": "execute_result"
    }
   ],
   "source": [
    "P = np.array([0.1, 0.4, 0.3, 0.2])\n",
    "weights = np.array([0.5, 0.5])\n",
    "\n",
    "df = pd.DataFrame({\n",
    "  \"Toyota\": [6, 7.5, 2, -3],\n",
    "  \"Pfizer\": [2.5, -0.5, 1, 13],\n",
    "  \"Walmart\": [4.5, 5.5, 4.0, -1]\n",
    "})\n",
    "df"
   ]
  },
  {
   "cell_type": "code",
   "execution_count": 29,
   "metadata": {},
   "outputs": [
    {
     "data": {
      "text/plain": [
       "3.2750000000000004"
      ]
     },
     "execution_count": 29,
     "metadata": {},
     "output_type": "execute_result"
    }
   ],
   "source": [
    "pe = port_er(df, P, weights)\n",
    "pe"
   ]
  },
  {
   "cell_type": "markdown",
   "metadata": {},
   "source": [
    "## Risk"
   ]
  },
  {
   "cell_type": "code",
   "execution_count": 35,
   "metadata": {},
   "outputs": [],
   "source": [
    "def port_risk(df, prob, weights):\n",
    "    # calculate weighted returns in each state of economy\n",
    "    returns = np.dot(df, weights)\n",
    "    # calculate protfolio expected return\n",
    "    er = port_er(df, prob, weights)\n",
    "    # calculate probability weighted square of deviation from expected return\n",
    "    return np.dot((returns - er)**2, prob) ** 0.5\n"
   ]
  },
  {
   "cell_type": "code",
   "execution_count": 36,
   "metadata": {},
   "outputs": [
    {
     "data": {
      "text/plain": [
       "1.2867109232457772"
      ]
     },
     "execution_count": 36,
     "metadata": {},
     "output_type": "execute_result"
    }
   ],
   "source": [
    "risk = port_risk(df, P, weights)\n",
    "risk"
   ]
  },
  {
   "cell_type": "markdown",
   "metadata": {},
   "source": [
    "## Correlation"
   ]
  },
  {
   "cell_type": "code",
   "execution_count": 49,
   "metadata": {},
   "outputs": [
    {
     "data": {
      "text/plain": [
       "0.9362004766821973"
      ]
     },
     "execution_count": 49,
     "metadata": {},
     "output_type": "execute_result"
    }
   ],
   "source": [
    "def asset_er(values, prob):\n",
    "    return np.dot( values, prob)\n",
    "\n",
    "def asset_risk(values, prob):\n",
    "    er = asset_er(values, prob)\n",
    "    return np.dot((values - er)**2, prob) ** 0.5\n",
    "\n",
    "def cor(x, y, prob):\n",
    "    ex = asset_er(x, prob)\n",
    "    ey = asset_er(y, prob)\n",
    "    covariance = np.dot( (x - ex) * (y - ey) , prob)\n",
    "    stdx = asset_risk(x, prob)\n",
    "    stdy = asset_risk(y, prob)\n",
    "    return covariance / (stdx * stdy)\n",
    "\n",
    "cor(df['Toyota'], df['Walmart'], P)"
   ]
  }
 ],
 "metadata": {
  "kernelspec": {
   "display_name": ".venv",
   "language": "python",
   "name": "python3"
  },
  "language_info": {
   "codemirror_mode": {
    "name": "ipython",
    "version": 3
   },
   "file_extension": ".py",
   "mimetype": "text/x-python",
   "name": "python",
   "nbconvert_exporter": "python",
   "pygments_lexer": "ipython3",
   "version": "3.9.16"
  },
  "orig_nbformat": 4,
  "vscode": {
   "interpreter": {
    "hash": "9189ef15b514d0ac4f699604532b46f4f27b4bad1f37918d02b80b822e1ff314"
   }
  }
 },
 "nbformat": 4,
 "nbformat_minor": 2
}
