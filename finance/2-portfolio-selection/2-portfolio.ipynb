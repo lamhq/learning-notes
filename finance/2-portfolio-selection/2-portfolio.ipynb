{
 "cells": [
  {
   "attachments": {},
   "cell_type": "markdown",
   "metadata": {},
   "source": [
    "# Portfolio Risk & Return"
   ]
  },
  {
   "cell_type": "code",
   "execution_count": 2,
   "metadata": {},
   "outputs": [],
   "source": [
    "import pandas as pd\n",
    "import numpy as np"
   ]
  },
  {
   "cell_type": "code",
   "execution_count": 5,
   "metadata": {},
   "outputs": [],
   "source": [
    "# probability weighted mean\n",
    "def prob_mean(values: list[float], prob: list[float]) -> float:\n",
    "    return np.dot(values, prob)\n",
    "\n",
    "# probability weighted standard deviation\n",
    "def prob_std(values: list[float], prob: list[float]) -> float:\n",
    "    er = prob_mean(values, prob)\n",
    "    return np.dot((values - er)**2, prob) ** 0.5\n",
    "\n",
    "# portfolio probability weighted mean\n",
    "def prob_port_mean(df, prob, weights):\n",
    "    # calculate expected returns of each assets\n",
    "    asset_returns = np.dot(df.T, prob)\n",
    "    # calculate weighted return\n",
    "    return np.dot(asset_returns, weights)\n",
    "\n",
    "# portfolio probability weighted risk\n",
    "def prob_port_risk(df, prob, weights):\n",
    "    # calculate weighted returns in each state of economy\n",
    "    returns = np.dot(df, weights)\n",
    "    # calculate protfolio expected return\n",
    "    er = prob_port_mean(df, prob, weights)\n",
    "    # calculate probability weighted square of deviation from expected return\n",
    "    return np.dot((returns - er)**2, prob) ** 0.5\n",
    "\n",
    "# probability weighted covariance\n",
    "def prob_cov(x, y, prob):\n",
    "    ex = prob_mean(x, prob)\n",
    "    ey = prob_mean(y, prob)\n",
    "    return np.dot( (x - ex) * (y - ey) , prob)\n",
    "\n",
    "# probability weighted correlation\n",
    "def prob_cor(x, y, prob):\n",
    "    covariance = prob_cov(x, y, prob)\n",
    "    stdx = prob_std(x, prob)\n",
    "    stdy = prob_std(y, prob)\n",
    "    return covariance / (stdx * stdy)"
   ]
  },
  {
   "attachments": {},
   "cell_type": "markdown",
   "metadata": {},
   "source": [
    "## Expected Return"
   ]
  },
  {
   "cell_type": "code",
   "execution_count": 22,
   "metadata": {},
   "outputs": [
    {
     "data": {
      "text/html": [
       "<div>\n",
       "<style scoped>\n",
       "    .dataframe tbody tr th:only-of-type {\n",
       "        vertical-align: middle;\n",
       "    }\n",
       "\n",
       "    .dataframe tbody tr th {\n",
       "        vertical-align: top;\n",
       "    }\n",
       "\n",
       "    .dataframe thead th {\n",
       "        text-align: right;\n",
       "    }\n",
       "</style>\n",
       "<table border=\"1\" class=\"dataframe\">\n",
       "  <thead>\n",
       "    <tr style=\"text-align: right;\">\n",
       "      <th></th>\n",
       "      <th>Toyota</th>\n",
       "      <th>Pfizer</th>\n",
       "      <th>Walmart</th>\n",
       "    </tr>\n",
       "  </thead>\n",
       "  <tbody>\n",
       "    <tr>\n",
       "      <th>0</th>\n",
       "      <td>6.0</td>\n",
       "      <td>2.5</td>\n",
       "      <td>4.5</td>\n",
       "    </tr>\n",
       "    <tr>\n",
       "      <th>1</th>\n",
       "      <td>7.5</td>\n",
       "      <td>-0.5</td>\n",
       "      <td>5.5</td>\n",
       "    </tr>\n",
       "    <tr>\n",
       "      <th>2</th>\n",
       "      <td>2.0</td>\n",
       "      <td>1.0</td>\n",
       "      <td>4.0</td>\n",
       "    </tr>\n",
       "    <tr>\n",
       "      <th>3</th>\n",
       "      <td>-3.0</td>\n",
       "      <td>13.0</td>\n",
       "      <td>-1.0</td>\n",
       "    </tr>\n",
       "  </tbody>\n",
       "</table>\n",
       "</div>"
      ],
      "text/plain": [
       "   Toyota  Pfizer  Walmart\n",
       "0     6.0     2.5      4.5\n",
       "1     7.5    -0.5      5.5\n",
       "2     2.0     1.0      4.0\n",
       "3    -3.0    13.0     -1.0"
      ]
     },
     "execution_count": 22,
     "metadata": {},
     "output_type": "execute_result"
    }
   ],
   "source": [
    "P = np.array([0.1, 0.4, 0.3, 0.2])\n",
    "weights = np.array([1/3, 1/3, 1/3])\n",
    "\n",
    "df = pd.DataFrame({\n",
    "  \"Toyota\": [6, 7.5, 2, -3],\n",
    "  \"Pfizer\": [2.5, -0.5, 1, 13],\n",
    "  \"Walmart\": [4.5, 5.5, 4.0, -1]\n",
    "})\n",
    "df"
   ]
  },
  {
   "cell_type": "code",
   "execution_count": 23,
   "metadata": {},
   "outputs": [
    {
     "data": {
      "text/plain": [
       "3.4"
      ]
     },
     "execution_count": 23,
     "metadata": {},
     "output_type": "execute_result"
    }
   ],
   "source": [
    "pe = prob_port_mean(df, P, weights)\n",
    "pe"
   ]
  },
  {
   "cell_type": "markdown",
   "metadata": {},
   "source": [
    "## Risk"
   ]
  },
  {
   "cell_type": "code",
   "execution_count": 24,
   "metadata": {},
   "outputs": [
    {
     "data": {
      "text/plain": [
       "0.8339997335464538"
      ]
     },
     "execution_count": 24,
     "metadata": {},
     "output_type": "execute_result"
    }
   ],
   "source": [
    "risk = prob_port_risk(df, P, weights)\n",
    "risk"
   ]
  },
  {
   "cell_type": "markdown",
   "metadata": {},
   "source": [
    "## Correlation"
   ]
  },
  {
   "cell_type": "code",
   "execution_count": 25,
   "metadata": {},
   "outputs": [
    {
     "data": {
      "text/plain": [
       "0.9362004766821973"
      ]
     },
     "execution_count": 25,
     "metadata": {},
     "output_type": "execute_result"
    }
   ],
   "source": [
    "prob_cor(df['Toyota'], df['Walmart'], P)"
   ]
  }
 ],
 "metadata": {
  "kernelspec": {
   "display_name": ".venv",
   "language": "python",
   "name": "python3"
  },
  "language_info": {
   "codemirror_mode": {
    "name": "ipython",
    "version": 3
   },
   "file_extension": ".py",
   "mimetype": "text/x-python",
   "name": "python",
   "nbconvert_exporter": "python",
   "pygments_lexer": "ipython3",
   "version": "3.9.16"
  },
  "orig_nbformat": 4,
  "vscode": {
   "interpreter": {
    "hash": "4d89d975450d2c50172f090a4af740770fc05aa7b50e2bf82c37d2bcf44fd2b6"
   }
  }
 },
 "nbformat": 4,
 "nbformat_minor": 2
}
