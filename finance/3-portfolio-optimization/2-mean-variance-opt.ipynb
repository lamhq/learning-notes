{
 "cells": [
  {
   "attachments": {},
   "cell_type": "markdown",
   "metadata": {},
   "source": [
    "# Mean-variance optimization"
   ]
  },
  {
   "cell_type": "code",
   "execution_count": 102,
   "metadata": {},
   "outputs": [],
   "source": [
    "from typing import List\n",
    "import pandas as pd\n",
    "import numpy as np\n",
    "import matplotlib.pyplot as plt\n",
    "from scipy.optimize import minimize"
   ]
  },
  {
   "attachments": {},
   "cell_type": "markdown",
   "metadata": {},
   "source": [
    "## Mean-variance efficient portfolio (two assets)"
   ]
  },
  {
   "attachments": {},
   "cell_type": "markdown",
   "metadata": {},
   "source": [
    "Define two risky assets and return of risk-free asset:"
   ]
  },
  {
   "cell_type": "code",
   "execution_count": 103,
   "metadata": {},
   "outputs": [
    {
     "data": {
      "text/html": [
       "<div>\n",
       "<style scoped>\n",
       "    .dataframe tbody tr th:only-of-type {\n",
       "        vertical-align: middle;\n",
       "    }\n",
       "\n",
       "    .dataframe tbody tr th {\n",
       "        vertical-align: top;\n",
       "    }\n",
       "\n",
       "    .dataframe thead th {\n",
       "        text-align: right;\n",
       "    }\n",
       "</style>\n",
       "<table border=\"1\" class=\"dataframe\">\n",
       "  <thead>\n",
       "    <tr style=\"text-align: right;\">\n",
       "      <th></th>\n",
       "      <th>R</th>\n",
       "      <th>S</th>\n",
       "    </tr>\n",
       "  </thead>\n",
       "  <tbody>\n",
       "    <tr>\n",
       "      <th>US</th>\n",
       "      <td>0.1355</td>\n",
       "      <td>0.1535</td>\n",
       "    </tr>\n",
       "    <tr>\n",
       "      <th>Japan</th>\n",
       "      <td>0.1497</td>\n",
       "      <td>0.2298</td>\n",
       "    </tr>\n",
       "  </tbody>\n",
       "</table>\n",
       "</div>"
      ],
      "text/plain": [
       "            R       S\n",
       "US     0.1355  0.1535\n",
       "Japan  0.1497  0.2298"
      ]
     },
     "execution_count": 103,
     "metadata": {},
     "output_type": "execute_result"
    }
   ],
   "source": [
    "assets_df = pd.DataFrame({\n",
    "  'R': [0.1355, 0.1497],\n",
    "  'S': [0.1535, 0.2298]\n",
    "}, index=['US', 'Japan'])\n",
    "corr = 0.2663\n",
    "r_rf = 0.05\n",
    "r_us = assets_df.at['US', 'R']\n",
    "r_jp = assets_df.at['Japan', 'R']\n",
    "s_us = assets_df.at['US', 'S']\n",
    "s_jp = assets_df.at['Japan', 'S']\n",
    "\n",
    "assets_df"
   ]
  },
  {
   "cell_type": "markdown",
   "metadata": {},
   "source": [
    "Find the mean-variance efficient portfolio"
   ]
  },
  {
   "cell_type": "code",
   "execution_count": 104,
   "metadata": {},
   "outputs": [],
   "source": [
    "def portolio_return(w1, w2, r1, r2):\n",
    "    return w1*r1 + w2*r2\n",
    "\n",
    "def portfolio_volatility(w1, w2, v1, v2, correlation):\n",
    "    return ((w1**2)*(v1**2) + (w2**2)*(v2**2) + 2*w1*w2*v1*v2*correlation)**0.5\n",
    "\n",
    "def sharpe_ratio(w, r1, r2, v1, v2, corr, rf):\n",
    "    w1 = w\n",
    "    w2 = 1 - w\n",
    "    return (portolio_return(w1, w2, r1, r2) - rf)/portfolio_volatility(w1, w2, v1, v2, corr)\n",
    "\n",
    "def find_mve(r1, r2, v1, v2, corr, rf):\n",
    "    bounds = ((0, 1),)\n",
    "    initial_guess = 0\n",
    "    optimized_result = minimize(lambda x: -sharpe_ratio(x, r1, r2, v1, v2, corr, rf), \n",
    "    initial_guess, \n",
    "    method='SLSQP',\n",
    "    bounds=bounds)\n",
    "    return optimized_result.x[0]\n",
    "\n",
    "w_us = find_mve(r_us, r_jp, s_us, s_jp, corr, r_rf)\n",
    "w_jp = 1 - w_us\n",
    "e_mve = portolio_return(w_us, w_jp, r_us, r_jp)\n",
    "v_mve = portfolio_volatility(w_us, w_jp, s_us, s_jp, corr)"
   ]
  },
  {
   "attachments": {},
   "cell_type": "markdown",
   "metadata": {},
   "source": [
    "Construct data for capital allocation line"
   ]
  },
  {
   "cell_type": "code",
   "execution_count": 105,
   "metadata": {},
   "outputs": [
    {
     "data": {
      "text/html": [
       "<div>\n",
       "<style scoped>\n",
       "    .dataframe tbody tr th:only-of-type {\n",
       "        vertical-align: middle;\n",
       "    }\n",
       "\n",
       "    .dataframe tbody tr th {\n",
       "        vertical-align: top;\n",
       "    }\n",
       "\n",
       "    .dataframe thead th {\n",
       "        text-align: right;\n",
       "    }\n",
       "</style>\n",
       "<table border=\"1\" class=\"dataframe\">\n",
       "  <thead>\n",
       "    <tr style=\"text-align: right;\">\n",
       "      <th></th>\n",
       "      <th>w_mve</th>\n",
       "      <th>w_rf</th>\n",
       "      <th>R</th>\n",
       "      <th>S</th>\n",
       "      <th>Sharpe ratio</th>\n",
       "    </tr>\n",
       "  </thead>\n",
       "  <tbody>\n",
       "    <tr>\n",
       "      <th>166</th>\n",
       "      <td>1.66</td>\n",
       "      <td>-0.66</td>\n",
       "      <td>0.199042</td>\n",
       "      <td>0.236247</td>\n",
       "      <td>0.630873</td>\n",
       "    </tr>\n",
       "    <tr>\n",
       "      <th>167</th>\n",
       "      <td>1.67</td>\n",
       "      <td>-0.67</td>\n",
       "      <td>0.199940</td>\n",
       "      <td>0.237671</td>\n",
       "      <td>0.630873</td>\n",
       "    </tr>\n",
       "    <tr>\n",
       "      <th>168</th>\n",
       "      <td>1.68</td>\n",
       "      <td>-0.68</td>\n",
       "      <td>0.200838</td>\n",
       "      <td>0.239094</td>\n",
       "      <td>0.630873</td>\n",
       "    </tr>\n",
       "    <tr>\n",
       "      <th>169</th>\n",
       "      <td>1.69</td>\n",
       "      <td>-0.69</td>\n",
       "      <td>0.201736</td>\n",
       "      <td>0.240517</td>\n",
       "      <td>0.630873</td>\n",
       "    </tr>\n",
       "    <tr>\n",
       "      <th>170</th>\n",
       "      <td>1.70</td>\n",
       "      <td>-0.70</td>\n",
       "      <td>0.202633</td>\n",
       "      <td>0.241940</td>\n",
       "      <td>0.630873</td>\n",
       "    </tr>\n",
       "  </tbody>\n",
       "</table>\n",
       "</div>"
      ],
      "text/plain": [
       "     w_mve  w_rf         R         S  Sharpe ratio\n",
       "166   1.66 -0.66  0.199042  0.236247      0.630873\n",
       "167   1.67 -0.67  0.199940  0.237671      0.630873\n",
       "168   1.68 -0.68  0.200838  0.239094      0.630873\n",
       "169   1.69 -0.69  0.201736  0.240517      0.630873\n",
       "170   1.70 -0.70  0.202633  0.241940      0.630873"
      ]
     },
     "execution_count": 105,
     "metadata": {},
     "output_type": "execute_result"
    }
   ],
   "source": [
    "cal_df = pd.DataFrame({ 'w_mve': np.arange(0, 1.71, step=0.01) })\n",
    "cal_df['w_rf'] = 1 - cal_df['w_mve']\n",
    "cal_df['R'] = portolio_return(cal_df['w_mve'], cal_df['w_rf'], e_mve, r_rf)\n",
    "cal_df['S'] = portfolio_volatility(cal_df['w_mve'], cal_df['w_rf'], v_mve, 0, 0)\n",
    "cal_df['Sharpe ratio'] = (e_mve - r_rf)/v_mve\n",
    "cal_df.tail()"
   ]
  },
  {
   "attachments": {},
   "cell_type": "markdown",
   "metadata": {},
   "source": [
    "Construct data for efficient frontier"
   ]
  },
  {
   "cell_type": "code",
   "execution_count": 106,
   "metadata": {},
   "outputs": [
    {
     "data": {
      "text/html": [
       "<div>\n",
       "<style scoped>\n",
       "    .dataframe tbody tr th:only-of-type {\n",
       "        vertical-align: middle;\n",
       "    }\n",
       "\n",
       "    .dataframe tbody tr th {\n",
       "        vertical-align: top;\n",
       "    }\n",
       "\n",
       "    .dataframe thead th {\n",
       "        text-align: right;\n",
       "    }\n",
       "</style>\n",
       "<table border=\"1\" class=\"dataframe\">\n",
       "  <thead>\n",
       "    <tr style=\"text-align: right;\">\n",
       "      <th></th>\n",
       "      <th>w_us</th>\n",
       "      <th>w_jp</th>\n",
       "      <th>R</th>\n",
       "      <th>S</th>\n",
       "    </tr>\n",
       "  </thead>\n",
       "  <tbody>\n",
       "    <tr>\n",
       "      <th>0</th>\n",
       "      <td>0.00</td>\n",
       "      <td>1.00</td>\n",
       "      <td>0.149700</td>\n",
       "      <td>0.229800</td>\n",
       "    </tr>\n",
       "    <tr>\n",
       "      <th>1</th>\n",
       "      <td>0.01</td>\n",
       "      <td>0.99</td>\n",
       "      <td>0.149558</td>\n",
       "      <td>0.227916</td>\n",
       "    </tr>\n",
       "    <tr>\n",
       "      <th>2</th>\n",
       "      <td>0.02</td>\n",
       "      <td>0.98</td>\n",
       "      <td>0.149416</td>\n",
       "      <td>0.226041</td>\n",
       "    </tr>\n",
       "    <tr>\n",
       "      <th>3</th>\n",
       "      <td>0.03</td>\n",
       "      <td>0.97</td>\n",
       "      <td>0.149274</td>\n",
       "      <td>0.224176</td>\n",
       "    </tr>\n",
       "    <tr>\n",
       "      <th>4</th>\n",
       "      <td>0.04</td>\n",
       "      <td>0.96</td>\n",
       "      <td>0.149132</td>\n",
       "      <td>0.222322</td>\n",
       "    </tr>\n",
       "  </tbody>\n",
       "</table>\n",
       "</div>"
      ],
      "text/plain": [
       "   w_us  w_jp         R         S\n",
       "0  0.00  1.00  0.149700  0.229800\n",
       "1  0.01  0.99  0.149558  0.227916\n",
       "2  0.02  0.98  0.149416  0.226041\n",
       "3  0.03  0.97  0.149274  0.224176\n",
       "4  0.04  0.96  0.149132  0.222322"
      ]
     },
     "execution_count": 106,
     "metadata": {},
     "output_type": "execute_result"
    }
   ],
   "source": [
    "ef_df = pd.DataFrame({ 'w_us': np.arange(0, 1.01, step=0.01) })\n",
    "ef_df['w_jp'] = 1 - ef_df['w_us']\n",
    "ef_df['R'] = portolio_return(ef_df['w_us'], ef_df['w_jp'], r_us, r_jp)\n",
    "ef_df['S'] = portfolio_volatility(ef_df['w_us'], ef_df['w_jp'], s_us, s_jp, corr)\n",
    "ef_df.head()"
   ]
  },
  {
   "cell_type": "markdown",
   "metadata": {},
   "source": [
    "Plot the data"
   ]
  },
  {
   "cell_type": "code",
   "execution_count": 107,
   "metadata": {},
   "outputs": [
    {
     "data": {
      "image/png": "[encoded data removed]",
      "text/plain": [
       "<Figure size 1000x600 with 1 Axes>"
      ]
     },
     "metadata": {},
     "output_type": "display_data"
    }
   ],
   "source": [
    "# Create the plot\n",
    "fig, ax = plt.subplots(figsize=(10,6))\n",
    "\n",
    "# plot capital allocation line\n",
    "ax.plot(cal_df['S'], cal_df['R'])\n",
    "\n",
    "# plot efficient frontier\n",
    "ax.plot(ef_df['S'], ef_df['R'])\n",
    "\n",
    "# plot mearn-variance efficient portfolio\n",
    "ax.scatter(v_mve, e_mve, color='orange')\n",
    "ax.text(v_mve-0.007, e_mve+0.0001, 'MVE', fontsize=12)\n",
    "\n",
    "# add title and x/y-axis labels\n",
    "plt.title('Mean-variance frontier and CAL with US and Japan only')\n",
    "plt.xlabel('Volatility')\n",
    "plt.ylabel('Expected return')\n",
    "\n",
    "# Set the limits of axes\n",
    "plt.ylim(ef_df['R'].min() - 0.001, ef_df['R'].max()+0.001)\n",
    "plt.xlim(ef_df['S'].min() - 0.01, ef_df['S'].max()+0.001)\n",
    "\n",
    "# Show the graph\n",
    "plt.show()\n",
    "\n",
    "plt.show()"
   ]
  }
 ],
 "metadata": {
  "kernelspec": {
   "display_name": ".venv",
   "language": "python",
   "name": "python3"
  },
  "language_info": {
   "codemirror_mode": {
    "name": "ipython",
    "version": 3
   },
   "file_extension": ".py",
   "mimetype": "text/x-python",
   "name": "python",
   "nbconvert_exporter": "python",
   "pygments_lexer": "ipython3",
   "version": "3.8.9"
  },
  "orig_nbformat": 4
 },
 "nbformat": 4,
 "nbformat_minor": 2
}
