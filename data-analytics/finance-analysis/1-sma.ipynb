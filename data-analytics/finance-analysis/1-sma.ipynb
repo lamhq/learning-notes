{
 "cells": [
  {
   "cell_type": "markdown",
   "metadata": {},
   "source": [
    "# Simple trading strategy using Simple Moving Average"
   ]
  },
  {
   "cell_type": "markdown",
   "metadata": {},
   "source": [
    "## Install packages"
   ]
  },
  {
   "cell_type": "code",
   "execution_count": null,
   "metadata": {},
   "outputs": [],
   "source": [
    "%pip install pandas"
   ]
  },
  {
   "cell_type": "code",
   "execution_count": null,
   "metadata": {},
   "outputs": [],
   "source": [
    "%pip install matplotlib"
   ]
  },
  {
   "cell_type": "markdown",
   "metadata": {},
   "source": [
    "## Import packages"
   ]
  },
  {
   "cell_type": "code",
   "execution_count": null,
   "metadata": {},
   "outputs": [],
   "source": [
    "import pandas as pd\n",
    "import matplotlib.pyplot as plt\n",
    "%matplotlib inline"
   ]
  },
  {
   "cell_type": "markdown",
   "metadata": {},
   "source": [
    "## Loading data"
   ]
  },
  {
   "cell_type": "code",
   "execution_count": null,
   "metadata": {},
   "outputs": [],
   "source": [
    "fb = pd.read_csv('./data/facebook.csv', index_col='Date')\n",
    "ms = pd.read_csv('./data/microsoft.csv', index_col='Date')"
   ]
  },
  {
   "cell_type": "markdown",
   "metadata": {},
   "source": [
    "## Create PriceDiff column\n",
    "\n",
    "Price diff between two days"
   ]
  },
  {
   "cell_type": "code",
   "execution_count": null,
   "metadata": {},
   "outputs": [],
   "source": [
    "fb['PriceDiff'] = fb['Close'].shift(-1) - fb['Close']\n",
    "fb['PriceDiff']"
   ]
  },
  {
   "cell_type": "code",
   "execution_count": null,
   "metadata": {},
   "outputs": [],
   "source": [
    "ms['PriceDiff'] = ms['Close'].shift(-1) - ms['Close']\n",
    "ms.loc['2015-01-05', 'PriceDiff']"
   ]
  },
  {
   "cell_type": "markdown",
   "metadata": {},
   "source": [
    "## Create Direction column\n",
    "\n",
    "Is price increase or decrease?"
   ]
  },
  {
   "cell_type": "code",
   "execution_count": null,
   "metadata": {},
   "outputs": [],
   "source": [
    "fb['Direction'] = [1 if fb['PriceDiff'].loc[ei] > 0 else 0 for ei in fb.index ]\n",
    "ms['Direction'] = [1 if ms['PriceDiff'].loc[ei] > 0 else 0 for ei in ms.index ]\n",
    "ms.loc['2015-01-05', 'Direction']"
   ]
  },
  {
   "cell_type": "markdown",
   "metadata": {},
   "source": [
    "## Create Moving Average column\n",
    "\n",
    "Đường trung bình động đơn giản (SMA) được tính bằng cách **lấy giá đóng cửa của N phiên giao dịch rồi chia cho N**\n",
    "\n",
    "*Nếu bạn vẽ đường SMA 5 kỳ (SMA 5) lên biểu đồ khung thời gian 1 ngày, bạn cần phải cộng giá đóng cửa của 5 ngày trước đó, sau đó chia cho 5. Như vậy bạn đã tính được giá đóng cửa trung bình của 5 ngày. Cứ sau 1 ngày, bạn lại cộng giá đóng cửa 5 ngày gần nhất lại, bạn sẽ được đường trung bình đơn giản.*"
   ]
  },
  {
   "cell_type": "code",
   "execution_count": null,
   "metadata": {},
   "outputs": [],
   "source": [
    "fb['ma50'] = fb['Close'].rolling(50).mean()\n",
    "\n",
    "#plot the moving average\n",
    "plt.figure(figsize=(10, 8))\n",
    "fb['ma50'].loc['2015-01-01':'2015-12-31'].plot(label='MA50')\n",
    "fb['Close'].loc['2015-01-01':'2015-12-31'].plot(label='Close')\n",
    "plt.legend()\n",
    "plt.show()"
   ]
  },
  {
   "cell_type": "code",
   "execution_count": null,
   "metadata": {},
   "outputs": [],
   "source": [
    "ms['ma50'] = ms['Close'].rolling(50).mean()\n",
    "\n",
    "#plot the moving average\n",
    "plt.figure(figsize=(10, 8))\n",
    "ms['ma50'].loc['2015-01-01':'2015-12-31'].plot(label='MA50')\n",
    "ms['Close'].loc['2015-01-01':'2015-12-31'].plot(label='Close')\n",
    "plt.legend()\n",
    "plt.show()"
   ]
  },
  {
   "cell_type": "markdown",
   "metadata": {},
   "source": [
    "## Strategy\n",
    "\n",
    "We plot Close Price `MA10` and `MA50`. If `MA10` is larger than `MA50`, then the stock price is believed to go up in the next seveval days. Otherwise, the price will decrease.\n",
    "\n",
    "Our strategy is, if MA10 is larger than `MA50`, we will buy and hold one share of stock.\n",
    "\n",
    "The yellow area labels the days on which we buy and hold one share of stock.\n",
    "\n",
    "We create a new variable called `Shares`, to denote whether we long or not. `Shares` is equal to 1 if `MA10` is larger than `MA50`, otherwise it is `0`.\n",
    "\n",
    "Next, we will compute Daily Profit:\n",
    "\n",
    "- If `Shares` is equal to `1`, the Daily Profit is equal to the close price of tomorrow minus close price of today. It can be positive or negative. If negative, we lose money on that day.\n",
    "- If `Shares` is equal to `0`, it means we do not buy stock, the profit is equal to `0`\n",
    "\n",
    "We can plot the Profit and find out on some days we make money. We can compute the cumulative wealth."
   ]
  },
  {
   "cell_type": "code",
   "execution_count": null,
   "metadata": {},
   "outputs": [],
   "source": [
    "# add `MA10` and `MA50` column\n",
    "fb['MA10'] = fb['Close'].rolling(10).mean()\n",
    "fb['MA50'] = fb['Close'].rolling(50).mean()\n",
    "fb = fb.dropna()\n",
    "\n",
    "# add `Shares` column\n",
    "fb['Shares'] = [1 if fb.loc[ei, 'MA10']>fb.loc[ei, 'MA50'] else 0 for ei in fb.index]\n",
    "\n",
    "# add close price of tomorrow NextClose\n",
    "fb['NextClose'] = fb['Close'].shift(-1)\n",
    "fb['Profit'] = [fb.loc[ei, 'NextClose'] - fb.loc[ei, 'Close'] if fb.loc[ei, 'Shares']==1 else 0 for ei in fb.index]\n",
    "fb['Profit'].plot()\n",
    "plt.xticks(rotation = 45)\n",
    "plt.axhline(y=0, color='red')"
   ]
  },
  {
   "cell_type": "markdown",
   "metadata": {},
   "source": [
    "## Display wealth\n",
    "\n",
    "Evaluate our strategy performance by looking at the total wealth we have."
   ]
  },
  {
   "cell_type": "code",
   "execution_count": null,
   "metadata": {},
   "outputs": [],
   "source": [
    "fb['wealth'] = fb['Profit'].cumsum()\n",
    "fb['wealth'].plot()\n",
    "plt.xticks(rotation = 45)\n",
    "plt.title(f'Total money you win is {fb.loc[fb.index[-2], \"wealth\"]}')"
   ]
  }
 ],
 "metadata": {
  "kernelspec": {
   "display_name": "Python 3.8.9 ('.venv': venv)",
   "language": "python",
   "name": "python3"
  },
  "language_info": {
   "codemirror_mode": {
    "name": "ipython",
    "version": 3
   },
   "file_extension": ".py",
   "mimetype": "text/x-python",
   "name": "python",
   "nbconvert_exporter": "python",
   "pygments_lexer": "ipython3",
   "version": "3.8.9"
  },
  "orig_nbformat": 4,
  "vscode": {
   "interpreter": {
    "hash": "4d89d975450d2c50172f090a4af740770fc05aa7b50e2bf82c37d2bcf44fd2b6"
   }
  }
 },
 "nbformat": 4,
 "nbformat_minor": 2
}
